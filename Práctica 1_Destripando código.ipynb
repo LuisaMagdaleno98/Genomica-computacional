{
 "cells": [
  {
   "cell_type": "markdown",
   "id": "1c4246d2",
   "metadata": {},
   "source": [
    "### Calderón Magdaleno Luisa Fernanda :)"
   ]
  },
  {
   "cell_type": "markdown",
   "id": "90c55548",
   "metadata": {},
   "source": [
    "# DESTRIPANDO CÓDIGO"
   ]
  },
  {
   "cell_type": "markdown",
   "id": "42ab60f9",
   "metadata": {},
   "source": [
    "# Instrucciones\n",
    "\n",
    "1. Elige trés códigos problema de la siguiente presentación, los cuales fueron obtenidos del libro Bioinformatics Algorithms. Design and Implementation in Python.\n",
    "2. Replica esos tres códigos en una celda de Jupyter.\n",
    "3. Destripa el código. Explica qué sucede en cada línea de cada código elegido, para esto imagina que vas a explicarle a tu asesor/a cómo funciona él código que encontraste en un repositorio. Considera que tu asesor/a apenas si entiende de lenguajes de programación. \n",
    "Entonces:\n",
    "Explica si el código es una función, cuáles son sus parámetros, qué espera como argumento.\n",
    "Si se está utilizando alguna función predeterminada, explica qué hace esa función.\n",
    "Si te encuentras una palabra reservada nueva, explica en qué consiste, etc.\n",
    "Si te encuentras una sentencia de control de flujo como if-else, while o for, explica qué está evaluando el programa."
   ]
  },
  {
   "cell_type": "markdown",
   "id": "7fe846ff",
   "metadata": {},
   "source": [
    "# Código 2 (antecedente para el código 1)"
   ]
  },
  {
   "cell_type": "markdown",
   "id": "d7fb81a4",
   "metadata": {},
   "source": [
    "Explicación del código 2.\n",
    "\n",
    "La función general de este código es la de contar los caracteres válidos (A, C, G, T) y comparar su suma con la longitud de la cadena para verificar que todos los caracteres sean válidos. \n",
    "1. Def es una función que se compone de la palabra clave (def), el nombre que asignaremos a la nueva función (validate_dna)  y los parámetros (dna_seq) en donde colocaremos la secuencia cuya validez queremos evaluar. Esta seguida del cuerpo de su declaración, es decir, de la tarea asignada, en este caso va desde el establecimiento de \"sinónimos\" ente seqm con dna_seq hasta la función if. También se compone de la función return, la cual devolverá el resultado de la tarea que le fue asignada. Def, por lo tanto,  en este caso nos permite evaluar la validez de nuestra secuencia.\n",
    "2. If es una función que establece una condicional. If está seguido de la los elementos que queremos evaluar, por ejemplo, \n",
    "\n",
    "Igualdad: a == b\n",
    "No igualdad: a != b\n",
    "Menor que: a < b\n",
    "Menor o igual que: a <= b\n",
    "Mayor: a > b\n",
    "mayor o igual que: a >= b, \n",
    "\n",
    "seguido de dos puntos y de la respuesta a esta condicional. En este caso, está dada por la función return. Por lo tanto, Def utiliza la declaración if en el cuerpo de su declaración. \n",
    "\n",
    "3. .upper en seqm = dna_seq.upper() permite convertir las letras de nuestra secuencia en mayusculas.\n"
   ]
  },
  {
   "cell_type": "code",
   "execution_count": 5,
   "id": "76e9f186",
   "metadata": {},
   "outputs": [],
   "source": [
    "def validate_dna (dna_seq): #```Checks if DNA sequence is valid. Returns True is sequence is valid, or False otherwise.```\n",
    "    seqm = dna_seq.upper() \n",
    "    valid = seqm.count(\"A\") + seqm.count(\"C\") + seqm.count(\"G\") + seqm.count(\"T\")\n",
    "    if valid == len(seqm): return True\n",
    "    else : return False"
   ]
  },
  {
   "cell_type": "code",
   "execution_count": 53,
   "id": "0f9977b8",
   "metadata": {},
   "outputs": [
    {
     "data": {
      "text/plain": [
       "True"
      ]
     },
     "execution_count": 53,
     "metadata": {},
     "output_type": "execute_result"
    }
   ],
   "source": [
    "validate_dna(\"atagagagatctcg\")"
   ]
  },
  {
   "cell_type": "code",
   "execution_count": 54,
   "id": "c49525b9",
   "metadata": {},
   "outputs": [
    {
     "data": {
      "text/plain": [
       "False"
      ]
     },
     "execution_count": 54,
     "metadata": {},
     "output_type": "execute_result"
    }
   ],
   "source": [
    "validate_dna(\"ATAGAXTAGAT\")"
   ]
  },
  {
   "cell_type": "markdown",
   "id": "3683420d",
   "metadata": {},
   "source": [
    "# Código 1"
   ]
  },
  {
   "cell_type": "markdown",
   "id": "de20e247",
   "metadata": {},
   "source": [
    "Explicación del código 1. \n",
    "\n",
    "Devuelve la cadena complementaria de la secuencia de DNA. \n",
    "\n",
    "1. Def. Establecimos la nueva función \"reverse_complement\"cuyo parámetro a evaluar será \"dna_seq\". El cuerpo de la declaración de esta función se compondrá de: \n",
    "2. assert nos permite probar si una condición en nuestro código se cumple, si no, el programa nos notificará que hay algún error. En este caso si no se cumple la función \"validate_dna\" que establecimos en la celda anterior, nos notificará \"Invalid_DNA_sequence\". \n",
    "3. comp sumará la cadena\n",
    "4. for c in dna_seq,upper() es una función de iteración, lo que quiere decir que en una función que se aplica varias veces, la salida anterior de esta función se utiliza como entrada para la siguiente iteración. En esta función iterativa se tiene las siguientes condicionales: \n",
    "  4.1. If. \n",
    "  4.2. Elif. La palabra clave es la forma de Python de decir \"si las condiciones anteriores no eran ciertas, entonces pruebe esta condición\". Siempre está seguida de la primera condicional \"if\". \n",
    "Al final de esta función se estarán sumando los resultados de las condicionales que fueron aplicables (A, G, C o T). \n",
    "5. Return devuelve la tarea asignada a la función creada, en este caso, devuelve la secuencia complementaria\n",
    "\n",
    "NOTA: La secuencia complemetaria se lee y por tanto transcribe de derecha a izquierda. \n",
    "OBSERVACIÓN MUY IMPORTANTE: Me di cuenta de que la secuencia molde deja de transcribirse cuando se encuentra una \"c\". Es decir, en los ejemlos que di en las celdas de abajo, la c tuvo que aparecer una sola vez y debió ser la  última letra de la secuencia molde, de lo contrario, dejaba de transcribirse el resto de la secuencia molde. ¿Qué debería cambiar para que no pase esto?"
   ]
  },
  {
   "cell_type": "code",
   "execution_count": 13,
   "id": "96208dcc",
   "metadata": {},
   "outputs": [],
   "source": [
    "def reverse_complement (dna_seq): #\"Computes_the_reverse_complement_of_the_DNA_sequence.\"\n",
    "    assert validate_dna(dna_seq), \"Invalid_DNA_sequence\"\n",
    "    comp = \"\"\n",
    "    for x in dna_seq.upper():\n",
    "        if x == \"A\": \n",
    "            comp = \"T\"+ comp\n",
    "        elif x == \"T\": \n",
    "            comp = \"A\"+comp\n",
    "        elif x == \"G\": \n",
    "            comp = \"C\"+comp\n",
    "        elif x== \"C\": \n",
    "            comp = \"G\"+comp\n",
    "            return comp"
   ]
  },
  {
   "cell_type": "code",
   "execution_count": 14,
   "id": "e14af604",
   "metadata": {},
   "outputs": [
    {
     "ename": "AssertionError",
     "evalue": "Invalid_DNA_sequence",
     "output_type": "error",
     "traceback": [
      "\u001b[1;31m---------------------------------------------------------------------------\u001b[0m",
      "\u001b[1;31mAssertionError\u001b[0m                            Traceback (most recent call last)",
      "\u001b[1;32m~\\AppData\\Local\\Temp\\ipykernel_9836\\2650463973.py\u001b[0m in \u001b[0;36m<module>\u001b[1;34m\u001b[0m\n\u001b[1;32m----> 1\u001b[1;33m \u001b[0mreverse_complement\u001b[0m\u001b[1;33m(\u001b[0m\u001b[1;34m\"taxgc\"\u001b[0m\u001b[1;33m)\u001b[0m\u001b[1;33m\u001b[0m\u001b[1;33m\u001b[0m\u001b[0m\n\u001b[0m",
      "\u001b[1;32m~\\AppData\\Local\\Temp\\ipykernel_9836\\4002967852.py\u001b[0m in \u001b[0;36mreverse_complement\u001b[1;34m(dna_seq)\u001b[0m\n\u001b[0;32m      1\u001b[0m \u001b[1;32mdef\u001b[0m \u001b[0mreverse_complement\u001b[0m \u001b[1;33m(\u001b[0m\u001b[0mdna_seq\u001b[0m\u001b[1;33m)\u001b[0m\u001b[1;33m:\u001b[0m \u001b[1;31m#\"Computes_the_reverse_complement_of_the_DNA_sequence.\"\u001b[0m\u001b[1;33m\u001b[0m\u001b[1;33m\u001b[0m\u001b[0m\n\u001b[1;32m----> 2\u001b[1;33m     \u001b[1;32massert\u001b[0m \u001b[0mvalidate_dna\u001b[0m\u001b[1;33m(\u001b[0m\u001b[0mdna_seq\u001b[0m\u001b[1;33m)\u001b[0m\u001b[1;33m,\u001b[0m \u001b[1;34m\"Invalid_DNA_sequence\"\u001b[0m\u001b[1;33m\u001b[0m\u001b[1;33m\u001b[0m\u001b[0m\n\u001b[0m\u001b[0;32m      3\u001b[0m     \u001b[0mcomp\u001b[0m \u001b[1;33m=\u001b[0m \u001b[1;34m\"\"\u001b[0m\u001b[1;33m\u001b[0m\u001b[1;33m\u001b[0m\u001b[0m\n\u001b[0;32m      4\u001b[0m     \u001b[1;32mfor\u001b[0m \u001b[0mx\u001b[0m \u001b[1;32min\u001b[0m \u001b[0mdna_seq\u001b[0m\u001b[1;33m.\u001b[0m\u001b[0mupper\u001b[0m\u001b[1;33m(\u001b[0m\u001b[1;33m)\u001b[0m\u001b[1;33m:\u001b[0m\u001b[1;33m\u001b[0m\u001b[1;33m\u001b[0m\u001b[0m\n\u001b[0;32m      5\u001b[0m         \u001b[1;32mif\u001b[0m \u001b[0mx\u001b[0m \u001b[1;33m==\u001b[0m \u001b[1;34m\"A\"\u001b[0m\u001b[1;33m:\u001b[0m\u001b[1;33m\u001b[0m\u001b[1;33m\u001b[0m\u001b[0m\n",
      "\u001b[1;31mAssertionError\u001b[0m: Invalid_DNA_sequence"
     ]
    }
   ],
   "source": [
    "reverse_complement(\"taxgc\")"
   ]
  },
  {
   "cell_type": "code",
   "execution_count": 15,
   "id": "b484ce30",
   "metadata": {},
   "outputs": [
    {
     "data": {
      "text/plain": [
       "'GCCTA'"
      ]
     },
     "execution_count": 15,
     "metadata": {},
     "output_type": "execute_result"
    }
   ],
   "source": [
    "reverse_complement(\"taggc\")"
   ]
  },
  {
   "cell_type": "code",
   "execution_count": 16,
   "id": "8088fe8d",
   "metadata": {},
   "outputs": [
    {
     "data": {
      "text/plain": [
       "'GATCATCCTA'"
      ]
     },
     "execution_count": 16,
     "metadata": {},
     "output_type": "execute_result"
    }
   ],
   "source": [
    "reverse_complement(\"taggatgatc\")"
   ]
  },
  {
   "cell_type": "code",
   "execution_count": 17,
   "id": "c083f918",
   "metadata": {},
   "outputs": [
    {
     "data": {
      "text/plain": [
       "'GATCATCCTA'"
      ]
     },
     "execution_count": 17,
     "metadata": {},
     "output_type": "execute_result"
    }
   ],
   "source": [
    "reverse_complement(\"taggatgatc\")"
   ]
  },
  {
   "cell_type": "code",
   "execution_count": 18,
   "id": "40861dc3",
   "metadata": {},
   "outputs": [
    {
     "data": {
      "text/plain": [
       "'G'"
      ]
     },
     "execution_count": 18,
     "metadata": {},
     "output_type": "execute_result"
    }
   ],
   "source": [
    "reverse_complement(\"ctaggatgat\")"
   ]
  },
  {
   "cell_type": "code",
   "execution_count": 171,
   "id": "edafaa18",
   "metadata": {},
   "outputs": [],
   "source": [
    "#ALGO INTERESANTÍSIMO ES QUE SI CORRO LA CELDA 74 CON \"RETURN COMP\" UN ESPACIO A LA IZQUIERDA, \n",
    "#EL OUTPUT DE LA CELDA 75 SERÁ ÚNICAMENTE EL PRIMER NUCLÉOTIDO COMPLEMENTARIO DE LA SECUENCIA"
   ]
  },
  {
   "cell_type": "code",
   "execution_count": null,
   "id": "3d1890d2",
   "metadata": {},
   "outputs": [],
   "source": [
    "#Solo corre a partir de la primer citosina a la izquierda "
   ]
  },
  {
   "cell_type": "markdown",
   "id": "ce41170c",
   "metadata": {},
   "source": [
    "# Código 5"
   ]
  },
  {
   "cell_type": "markdown",
   "id": "74f28bff",
   "metadata": {},
   "source": [
    "Explicación del código 5. \n",
    "\n",
    "Se traducen los codones (3 letras que representan 3 bases nitrogenadas) a aminoácidos. \n",
    "\n",
    "1. Def. Establecimos la nueva función \"translate_codon\"cuyo parámetro a evaluar será \"cod\", es decir, en donde se sustituirá \n",
    "nuestro codón de interés. El cuerpo de la declaración de esta función se compondrá de:\n",
    "2. Diccionario. Almacena una serie de valores en pares llamados key:value pairs (pares clave:valor). \n",
    "Es decir, mis tres codones juntos es la clave y la letra del aminoácido es el valor, juntos forman el par clave:valor. \n",
    "El diccionario vacío se establece con el nombre del diccionario (tc) seguido de {} dentro del que se encuentran los pares clave:valor.\n",
    "3. If. La condicional establece que si los codones se encuentran en la biblioteca tc, devuelva la letra del aminoácido, \n",
    "4. sino que devuelva (return none). Esto está establecido por \"else\" que considera cualquier cosa que no esté contenida en las condiciones anteriores."
   ]
  },
  {
   "cell_type": "code",
   "execution_count": 20,
   "id": "8ab209ad",
   "metadata": {},
   "outputs": [],
   "source": [
    "def translate_codon (cod): #\"\"\"Translates a codon into an aminoacid using an internal dictionary with the standard genetic code.\"\"\"\n",
    "    tc = {\"GCT\":\"A\", \"GCC\":\"A\", \"GCA\":\"A\", \"GCG\":\"A\", \n",
    "          \"TGT\":\"C\", \"TGC\":\"C\",\n",
    "          \"GAT\":\"D\", \"GAC\":\"D\",\n",
    "          \"GAA\":\"E\", \"GAG\":\"E\",\n",
    "          \"TTT\":\"F\", \"TTC\":\"F\",\n",
    "          \"GGT\":\"G\", \"GGC\":\"G\", \n",
    "          \"GGA\":\"G\", \"GGG\":\"G\",\n",
    "          \"CAT\":\"H\", \"CAC\":\"H\",\n",
    "          \"ATA\":\"I\", \"ATT\":\"I\", \n",
    "          \"ATC\":\"I\",\"AAA\":\"K\", \n",
    "          \"AAG\":\"K\", \"AAC\":\"N\",\n",
    "          \"TTA\":\"L\", \"TTG\":\"L\", \n",
    "          \"CTT\":\"L\", \"CTC\":\"L\", \n",
    "          \"CTA\":\"L\", \"CTG\":\"L\",\n",
    "          \"ATG\":\"M\", \"AAT\":\"N\", \n",
    "          \"CCT\":\"P\", \"CCC\":\"P\", \n",
    "          \"CCA\":\"P\", \"CCG\":\"P\",\n",
    "          \"CAA\":\"Q\", \"CAG\":\"Q\",\n",
    "          \"CGT\":\"R\", \"CGC\":\"R\", \n",
    "          \"CGA\":\"R\", \"CGG\":\"R\", \n",
    "          \"AGA\":\"R\", \"AGG\":\"R\",\n",
    "          \"TCT\":\"S\", \"TCC\":\"S\", \n",
    "          \"TCA\":\"S\", \"TCG\":\"S\", \n",
    "          \"AGT\":\"S\", \"AGC\":\"S\",\n",
    "          \"ACT\":\"T\", \"ACC\":\"T\", \n",
    "          \"ACA\":\"T\", \"ACG\":\"T\",\n",
    "          \"GTT\":\"V\", \"GTC\":\"V\", \n",
    "          \"GTA\":\"V\", \"GTG\":\"V\",\n",
    "          \"TGG\":\"W\",\"TAT\":\"Y\", \"TAC\":\"Y\",\n",
    "          \"TAA\":\"_\", \"TAG\":\"_\", \"TGA\":\"_\"}\n",
    "    if cod in tc: return tc[cod]\n",
    "    else: return None"
   ]
  },
  {
   "cell_type": "code",
   "execution_count": 24,
   "id": "5d09f8bc",
   "metadata": {
    "scrolled": true
   },
   "outputs": [
    {
     "data": {
      "text/plain": [
       "'A'"
      ]
     },
     "execution_count": 24,
     "metadata": {},
     "output_type": "execute_result"
    }
   ],
   "source": [
    "translate_codon(\"GCT\")"
   ]
  },
  {
   "cell_type": "code",
   "execution_count": 28,
   "id": "63fed97a",
   "metadata": {},
   "outputs": [],
   "source": [
    "translate_codon(\"GCX\")"
   ]
  },
  {
   "cell_type": "code",
   "execution_count": null,
   "id": "8034c956",
   "metadata": {},
   "outputs": [],
   "source": []
  }
 ],
 "metadata": {
  "kernelspec": {
   "display_name": "Python 3 (ipykernel)",
   "language": "python",
   "name": "python3"
  },
  "language_info": {
   "codemirror_mode": {
    "name": "ipython",
    "version": 3
   },
   "file_extension": ".py",
   "mimetype": "text/x-python",
   "name": "python",
   "nbconvert_exporter": "python",
   "pygments_lexer": "ipython3",
   "version": "3.9.13"
  }
 },
 "nbformat": 4,
 "nbformat_minor": 5
}
